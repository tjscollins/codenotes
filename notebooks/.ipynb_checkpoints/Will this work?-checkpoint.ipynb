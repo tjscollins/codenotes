{
 "cells": [
  {
   "cell_type": "markdown",
   "metadata": {},
   "source": [
    "# This is a test"
   ]
  }
 ],
 "metadata": {
  "frontmatter": {
   "date": "2018-05-02",
   "title": "Test"
  },
  "kernelspec": {
   "display_name": "Typescript 2.8",
   "language": "typescript",
   "name": "typescript"
  },
  "language_info": {
   "file_extension": ".ts",
   "mimetype": "text/x-typescript",
   "name": "typescript",
   "version": "2.8.3"
  }
 },
 "nbformat": 4,
 "nbformat_minor": 2
}
