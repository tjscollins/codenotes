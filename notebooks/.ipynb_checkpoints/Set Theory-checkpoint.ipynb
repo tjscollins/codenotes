{
 "cells": [
  {
   "cell_type": "markdown",
   "metadata": {},
   "source": [
    "# Collections of Uniquities\n",
    "\n",
    "$x^2 - 2y^2 = z^3$\n",
    "\n",
    "Testing\n",
    "\n",
    "can anybody hear me?"
   ]
  },
  {
   "cell_type": "code",
   "execution_count": 2,
   "metadata": {},
   "outputs": [],
   "source": [
    "def example_code(a, b):\n",
    "    return a > b;\n",
    "\n",
    "example_code(1, 2);"
   ]
  },
  {
   "cell_type": "code",
   "execution_count": null,
   "metadata": {},
   "outputs": [],
   "source": []
  }
 ],
 "metadata": {
  "frontmatter": {
   "path": "/mathematics/set-theory"
  },
  "kernelspec": {
   "display_name": "Python 3",
   "language": "python",
   "name": "python3"
  },
  "language_info": {
   "codemirror_mode": {
    "name": "ipython",
    "version": 3
   },
   "file_extension": ".py",
   "mimetype": "text/x-python",
   "name": "python",
   "nbconvert_exporter": "python",
   "pygments_lexer": "ipython3",
   "version": "3.6.3"
  }
 },
 "nbformat": 4,
 "nbformat_minor": 2
}
