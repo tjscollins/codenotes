{
 "cells": [
  {
   "cell_type": "markdown",
   "metadata": {},
   "source": [
    "# Collections of Uniquities\n",
    "\n",
    "\n",
    "## Testing  \n",
    "\n",
    "\\\\(x^2 + y^2 = z^2\\\\)\n",
    "\n",
    "$$ \\Sigma^{\\infty}_{i=1} \\frac{1}{x} = \\infty $$\n",
    "\n",
    "\\$10 is a lot of money. \\\\(x + y\\\\)"
   ]
  }
 ],
 "metadata": {
  "front-matter": {
   "date": "2018-05-02",
   "slug": "set-theory-for-discerning-collectors",
   "subtitle": "Generic subtitle",
   "title": "Set Theory for Discerning Collectors"
  },
  "frontmatter": {
   "date": "2018-05-02",
   "title": "Collections of Uniquities"
  },
  "hugo-jupyter": {
   "render-to": "content/mathematics/"
  },
  "hugo_jupyter": {
   "render_to": "content/mathematics"
  },
  "kernelspec": {
   "display_name": "Python 3",
   "language": "python",
   "name": "python3"
  },
  "language_info": {
   "codemirror_mode": {
    "name": "ipython",
    "version": 3
   },
   "file_extension": ".py",
   "mimetype": "text/x-python",
   "name": "python",
   "nbconvert_exporter": "python",
   "pygments_lexer": "ipython3",
   "version": "3.6.3"
  }
 },
 "nbformat": 4,
 "nbformat_minor": 2
}
